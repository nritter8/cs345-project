{
  "nbformat": 4,
  "nbformat_minor": 0,
  "metadata": {
    "colab": {
      "provenance": []
    },
    "kernelspec": {
      "name": "python3",
      "display_name": "Python 3"
    },
    "language_info": {
      "name": "python"
    }
  },
  "cells": [
    {
      "cell_type": "code",
      "source": [
        "import numpy as np\n",
        "import pandas as pd\n",
        "import matplotlib.pyplot as plt"
      ],
      "metadata": {
        "id": "GSB3lsJ7aE7X"
      },
      "execution_count": null,
      "outputs": []
    },
    {
      "cell_type": "markdown",
      "source": [
        "## Introduction\n",
        "I work in the field of cybersecurity. In general, the way that malware and other forms of malicious activity are detected is using signature matching. Essentially, network traffic is compared against a set of known signatures related to various forms of malicious activity. The capabilities of signature matching are limited. Signature-matching systems can be easily fooled by making minor modifications to the malicious activity. For example, say a signature looks for the string “This program cannot be run in DOS mode”, which is a string that is standard for the MS-DOS header that is part of a Microsoft Portable Executable file. It is trivial to fool a signature-matching system by adding additional blank spaces to the string. Because of the limitations of signature matching, there has been a push in the field to start implementing behavior analysis as a method of detecting malicious activity. This is because, while it is easy to slightly modify software, it is much more difficult to modify behavior, as shown by the fact that every malicious actor has a known set of Tactics, Techniques, and Procedures (TTPs) that rarely changes. Machine learning provides a potential method for evaluating traffic without relying on signatures. \n",
        "\n",
        "Additionally, signature matching is only feasible if you have access to full packet captures (PCAPs), which are extremely large. Depending on the size of the network from which the PCAPs were taken, even maintaining a week's worth of PCAPs can require many Terabytes worth of storage. However, another type of data that can be generated from network traffic. Flow data (often called netflow data) summarizes network traffic, separating it into connections. Flow data is significantly smaller than full PCAP data, 100 times smaller or more. Flow data can easily be converted into matrices, upon which machine learning can work.\n",
        "\n",
        "Because of the cost of implementing signature matching and its limitations, I used this project as a way to answer two questions. \n",
        "1. Can machine learning be applied to flow data to accurately classify network traffic as either benign or malicious? \n",
        "2. If so, which parts of flow data (features) are the most useful for classifying network traffic?"
      ],
      "metadata": {
        "id": "83KEK-gVA0AY"
      }
    },
    {
      "cell_type": "markdown",
      "source": [
        "## Importing the Data\n",
        "\n",
        "For this project, I took flow data that was generated from PCAPs. Due to the size of the available data, I only used a single PCAP and its corresponding flow data. Specifically, I used the data that covers Thursday morning, which includes benign traffic and traffic from 3 types of Web Attacks: Brute Force, SQL Injection, and XSS (Cross-site scripting). \n",
        "\n",
        "The original PCAP is 7.7 GB (it covers all of Thursday) is size with the CSV file containing the corresponding netflow data (for Thursday morning) being almost 90 MB, including more than 170,000 examples with 82 features. Due to the nature of network traffic, the data is heavily imbalanced, skewing toward benign samples, with less than 2200 samples that represent all of the attack types and the rest being benign.\n",
        "\n",
        "Part of importing the data involved performing some transformations so it would work with sklearn. I decided to use a Random Forest Classifier (more on that below) which would normally be able to handle both categorical and numeric (continuous) data. However, sklearn's implementation of the Random Forest Classifier doesn't do so internally. It only uses numerical features which are always interpreted as continuous. Thankfully, the only non-numerical data in my dataset is the IP addresses. Since IP addresses are themselves numeric (they are just presented in dotted decimal notation for readability), they can easily be converted into a completely numeric format. I also had to replace the 'NaN' and 'Infinity' values. Since they were the product of dividing by zero, I replaced them with 0."
      ],
      "metadata": {
        "id": "LrMhJaS47ALI"
      }
    },
    {
      "cell_type": "code",
      "execution_count": null,
      "metadata": {
        "id": "ZRPqJEpAAybQ"
      },
      "outputs": [],
      "source": [
        "import requests\n",
        "import ipaddress\n",
        "\n",
        "def make_column(column):\n",
        "    try:\n",
        "        result = column.astype(np.float_)[:,np.newaxis]\n",
        "        result = np.nan_to_num(result, nan=0, posinf=0, neginf=0)\n",
        "    except:\n",
        "        int_column = np.array([int(ipaddress.ip_address(column[i])) for i in range(len(column))])\n",
        "        result = int_column[:,np.newaxis]\n",
        "    return result\n",
        "\n",
        "def make_y(y_strings):\n",
        "    labels = np.unique(y_strings)\n",
        "    y = np.zeros(len(y_strings))\n",
        "    for i in range(len(labels)):\n",
        "        y[y_strings == labels[i]] = i\n",
        "    return y, labels\n",
        "\n",
        "# import data from CSV (possibly saved locally with the notebook, on a CS machine, or in Google Drive)\n",
        "def get_data(url):\n",
        "    data_string = requests.get(url).text\n",
        "    data_lines = data_string.split('\\n')\n",
        "    data_lines[0] = data_lines[0][1:]\n",
        "    data_lines[0] = data_lines[0].replace(', ', ',')\n",
        "    data_lines.pop(170367)\n",
        "    string_matrix = np.array([row.split(',') for row in data_lines], dtype=str)\n",
        "\n",
        "    headers = string_matrix[0][:-1]\n",
        "    string_matrix = string_matrix[1:]\n",
        "    columns = [make_column(string_matrix[:,i]) for i in range(len(string_matrix[0])-1)]\n",
        "    X = np.concatenate(columns, axis=1)\n",
        "    y_strings = np.array(string_matrix[:,-1])\n",
        "    y, labels = make_y(y_strings)\n",
        "\n",
        "    return X, y, headers, labels\n",
        "\n",
        "link = 'https://raw.githubusercontent.com/nritter8/cs345-project/main/flow_data.csv'\n",
        "X, y, headers, labels = get_data(link)"
      ]
    },
    {
      "cell_type": "code",
      "source": [
        "print(headers, '\\n\\n', labels, '\\n\\n', X.shape, y.shape)\n",
        "print('\\n', X[:,1].dtype)"
      ],
      "metadata": {
        "colab": {
          "base_uri": "https://localhost:8080/"
        },
        "id": "g0TLA0ZalgHr",
        "outputId": "2aa44925-b249-424e-afe6-21660fd319a6"
      },
      "execution_count": null,
      "outputs": [
        {
          "output_type": "stream",
          "name": "stdout",
          "text": [
            "['Source IP' 'Source Port' 'Destination IP' 'Destination Port' 'Protocol'\n",
            " 'Flow Duration' 'Total Fwd Packets' 'Total Backward Packets'\n",
            " 'Total Length of Fwd Packets' 'Total Length of Bwd Packets'\n",
            " 'Fwd Packet Length Max' 'Fwd Packet Length Min' 'Fwd Packet Length Mean'\n",
            " 'Fwd Packet Length Std' 'Bwd Packet Length Max' 'Bwd Packet Length Min'\n",
            " 'Bwd Packet Length Mean' 'Bwd Packet Length Std' 'Flow Bytes/s'\n",
            " 'Flow Packets/s' 'Flow IAT Mean' 'Flow IAT Std' 'Flow IAT Max'\n",
            " 'Flow IAT Min' 'Fwd IAT Total' 'Fwd IAT Mean' 'Fwd IAT Std' 'Fwd IAT Max'\n",
            " 'Fwd IAT Min' 'Bwd IAT Total' 'Bwd IAT Mean' 'Bwd IAT Std' 'Bwd IAT Max'\n",
            " 'Bwd IAT Min' 'Fwd PSH Flags' 'Bwd PSH Flags' 'Fwd URG Flags'\n",
            " 'Bwd URG Flags' 'Fwd Header Length' 'Bwd Header Length' 'Fwd Packets/s'\n",
            " 'Bwd Packets/s' 'Min Packet Length' 'Max Packet Length'\n",
            " 'Packet Length Mean' 'Packet Length Std' 'Packet Length Variance'\n",
            " 'FIN Flag Count' 'SYN Flag Count' 'RST Flag Count' 'PSH Flag Count'\n",
            " 'ACK Flag Count' 'URG Flag Count' 'CWE Flag Count' 'ECE Flag Count'\n",
            " 'Down/Up Ratio' 'Average Packet Size' 'Avg Fwd Segment Size'\n",
            " 'Avg Bwd Segment Size' 'Fwd Header Length' 'Fwd Avg Bytes/Bulk'\n",
            " 'Fwd Avg Packets/Bulk' 'Fwd Avg Bulk Rate' 'Bwd Avg Bytes/Bulk'\n",
            " 'Bwd Avg Packets/Bulk' 'Bwd Avg Bulk Rate' 'Subflow Fwd Packets'\n",
            " 'Subflow Fwd Bytes' 'Subflow Bwd Packets' 'Subflow Bwd Bytes'\n",
            " 'Init_Win_bytes_forward' 'Init_Win_bytes_backward' 'act_data_pkt_fwd'\n",
            " 'min_seg_size_forward' 'Active Mean' 'Active Std' 'Active Max'\n",
            " 'Active Min' 'Idle Mean' 'Idle Std' 'Idle Max' 'Idle Min'] \n",
            "\n",
            " ['BENIGN' 'Web Attack � Brute Force' 'Web Attack � Sql Injection'\n",
            " 'Web Attack � XSS'] \n",
            "\n",
            " (170366, 82) (170366,)\n",
            "\n",
            " float64\n"
          ]
        }
      ]
    },
    {
      "cell_type": "markdown",
      "source": [
        "The most basic flow data is known as the 5-tuple and it consists of the following:\n",
        "- source and destination IP addresses\n",
        "- source and destination ports, if any (not all traffic uses TCP/UDP ports)\n",
        "- communication protocol\n",
        "\n",
        "As such, I created a reduced feature matrix that only includes the 5-tuple as the features."
      ],
      "metadata": {
        "id": "TCuGZjElBXUa"
      }
    },
    {
      "cell_type": "code",
      "source": [
        "\n",
        "\n",
        "def get_5_tuple(X, headers):\n",
        "    tuple_headers = ['Source IP', 'Destination IP', 'Source Port', 'Destination Port', 'Protocol']\n",
        "    column_nos = []\n",
        "    for i in range(len(headers)):\n",
        "        if headers[i] in tuple_headers:\n",
        "            column_nos.append(i)\n",
        "    tuple_columns = [make_column(X[:, i]) for i in column_nos]\n",
        "    basic_X = np.concatenate(tuple_columns, axis=1)\n",
        "    return basic_X\n",
        "\n",
        "basic_X = get_5_tuple(X, headers)\n",
        "print(basic_X.shape, basic_X.dtype)\n"
      ],
      "metadata": {
        "id": "42I2UfLSIULt",
        "colab": {
          "base_uri": "https://localhost:8080/"
        },
        "outputId": "0671681d-e6f4-41da-d1d3-05da419c668e"
      },
      "execution_count": null,
      "outputs": [
        {
          "output_type": "stream",
          "name": "stdout",
          "text": [
            "(170366, 5) float64\n"
          ]
        }
      ]
    },
    {
      "cell_type": "markdown",
      "source": [
        "## Initial classification\n",
        "\n",
        "The best classifier to use for my data is the Random Forest Classifier, for the following reasons:\n",
        "- Random Forests reduce processing overhead since the features don't need to be standardized\n",
        "- The data has four possible classes (benign and 3 attacks) and Random Forests are inherently multiclass\n",
        "- The data has over 170,000 examples which makes Random Forests, with a training complexity of $O(n * log(n) * d * k)$[<sup>1</sup>](#complexity) preferable to other classifiers, such as SVMs, which have a training complexity of $O(n^2)$[<sup>1</sup>](#complexity)\n",
        "\n",
        "However, Random Forests have a tendency to overfit data, so I tested different values for the maximum tree depth, using balanced accuracy as the measure of classifier performance due to the significant imbalance in the data."
      ],
      "metadata": {
        "id": "nSgQ8dfujFcE"
      }
    },
    {
      "cell_type": "code",
      "source": [
        "from sklearn.ensemble import RandomForestClassifier\n",
        "from sklearn.metrics import balanced_accuracy_score\n",
        "from sklearn.model_selection import cross_val_score\n",
        "from sklearn.model_selection import StratifiedKFold\n",
        "\n",
        "basic_accuracies = []\n",
        "full_accuracies = []\n",
        "\n",
        "def classify(X, y, d):\n",
        "    cv = StratifiedKFold(shuffle=True, random_state=42)\n",
        "    forest = RandomForestClassifier(max_depth=d)\n",
        "    accuracy = cross_val_score(forest, X, y, cv=cv, scoring='balanced_accuracy')\n",
        "    return np.mean(accuracy)\n",
        "\n",
        "def check_depths(X, y):\n",
        "    accuracies = []\n",
        "    for depth in range(4,40,4):\n",
        "        accuracies.append(classify(X, y, depth))\n",
        "    return accuracies\n",
        "\n",
        "basic_accuracies = check_depths(basic_X, y)\n",
        "full_accuracies = check_depths(X, y)"
      ],
      "metadata": {
        "id": "WXMHD0F2P9a7"
      },
      "execution_count": null,
      "outputs": []
    },
    {
      "cell_type": "code",
      "source": [
        "fig, axs = plt.subplots(1, 2, figsize=(11,5))\n",
        "\n",
        "axs[0].plot(range(4,40,4), basic_accuracies, 'o-')\n",
        "axs[1].plot(range(4,40,4), full_accuracies, 'o-')\n",
        "\n",
        "fig.suptitle('Random Forest Accuracies', fontsize=16)\n",
        "axs[0].set_title('5-tuple')\n",
        "axs[1].set_title('full feature set')\n",
        "for i in [0,1]:\n",
        "    axs[i].set_xlabel('max tree depth')\n",
        "    axs[i].set_ylabel('accuracy')\n",
        "\n",
        "plt.show()"
      ],
      "metadata": {
        "colab": {
          "base_uri": "https://localhost:8080/",
          "height": 370
        },
        "id": "DY7eoEDRGqMn",
        "outputId": "eea579e5-3434-413d-f8d3-f8c6bff709cf"
      },
      "execution_count": null,
      "outputs": [
        {
          "output_type": "display_data",
          "data": {
            "text/plain": [
              "<Figure size 792x360 with 2 Axes>"
            ],
            "image/png": "[encoded data removed]"
          },
          "metadata": {
            "needs_background": "light"
          }
        }
      ]
    },
    {
      "cell_type": "markdown",
      "source": [
        "On the whole, the accuracy of the classifier is around what I thought it would be. The balanced accuracy is significantly higher than it would be for a majority classifier (0.25), but the balanced accuracy being around 0.83, while decent, suggests that using flow data might not quite be sufficient for accurately classifying network traffic into different attacks, which answers my first question.\n",
        "\n",
        "The results also give two other important pieces of information. The first is the optimal maximum tree depth to use for classifying network traffic using a Random Forest Classifier, which is 28 for the full feature set and 8 for the 5-tuple. While useful for tuning the classifier, maximum tree depth doesn't say anything about the data.\n",
        "\n",
        "The second piece of information is much more useful for determining what is needed to classify network traffic. The results say that using the basic 5-tuple is as good as, if not better than using the full feature set, with the accuracy being up to 0.05 higher."
      ],
      "metadata": {
        "id": "zIPMsI_mMi6o"
      }
    },
    {
      "cell_type": "markdown",
      "source": [
        "## Feature Selection\n",
        "\n",
        "After finding the optimal maximum tree depth for the Random Forest Classifier, I wanted to determine which features of the netflow data are the most useful for classifying network traffic. The quickest and easiest way to determine the importance of each feature when using a Random Forest Classifier is to check its *feature_importances_* property."
      ],
      "metadata": {
        "id": "2lt3S9LKMrl4"
      }
    },
    {
      "cell_type": "code",
      "source": [
        "from sklearn.model_selection import train_test_split\n",
        "\n",
        "X_train, X_test, y_train, y_test = train_test_split(X, y, test_size=0.3, shuffle=True, random_state=42)\n",
        "\n",
        "best_forest = RandomForestClassifier(max_depth=20)\n",
        "best_forest.fit(X_train, y_train);"
      ],
      "metadata": {
        "id": "zeOO_HY5PoIU"
      },
      "execution_count": null,
      "outputs": []
    },
    {
      "cell_type": "code",
      "source": [
        "from operator import itemgetter\n",
        "\n",
        "importances = []\n",
        "for i in range(len(X[0])):\n",
        "    importance = {'index': i, 'value': best_forest.feature_importances_[i]}\n",
        "    importances.append(importance)\n",
        "importances.sort(key=itemgetter('value'), reverse=True)\n",
        "for i in range(10):\n",
        "    print(headers[importances[i]['index']], importances[i]['value'])"
      ],
      "metadata": {
        "colab": {
          "base_uri": "https://localhost:8080/"
        },
        "id": "mrHxf5zwdmH9",
        "outputId": "66f45f3c-5fd6-40de-a5bd-b212b2a50199"
      },
      "execution_count": null,
      "outputs": [
        {
          "output_type": "stream",
          "name": "stdout",
          "text": [
            "Source IP 0.14094694009690556\n",
            "Source Port 0.08495751028048876\n",
            "Fwd IAT Min 0.05383631847732424\n",
            "Fwd IAT Std 0.050171109983477\n",
            "Destination IP 0.05003235221293596\n",
            "Flow IAT Std 0.04576964713579074\n",
            "Init_Win_bytes_backward 0.03587473898209669\n",
            "Fwd Header Length 0.03523108493270867\n",
            "Destination Port 0.033269784148128353\n",
            "Flow IAT Min 0.029004583323762535\n"
          ]
        }
      ]
    },
    {
      "cell_type": "markdown",
      "source": [
        "The above are the most important features of flow data for classifying network traffic, with 4 of the elements of the 5-tuple being present in the top 10 features (3 of which are in the top 5)."
      ],
      "metadata": {
        "id": "cu4HPGE9zGv7"
      }
    },
    {
      "cell_type": "markdown",
      "source": [
        "If the balanced accuracy is evaluated after the data is limited only to the $3 \\ge n \\ge 18$ most important features, a more complete picture of the importances of the different features can be seen. I also rechecked each limited feature set with different maximum depths to see if it made a noticable difference."
      ],
      "metadata": {
        "id": "PHR0LWdwzM9r"
      }
    },
    {
      "cell_type": "code",
      "source": [
        "accuracy_matrix = []\n",
        "for d in range(12,21,4):\n",
        "    accuracies = []\n",
        "    for n in range(3,20,3):\n",
        "        best_headers = np.array([importances[i]['index'] for i in range(n)])\n",
        "        best_columns = [make_column(X[:, i]) for i in best_headers]\n",
        "        X_best = np.concatenate(best_columns, axis=1)\n",
        "        accuracies.append(classify(X_best, y, d))\n",
        "    accuracy_matrix.append(accuracies)"
      ],
      "metadata": {
        "id": "vCR_VYQG3ONW"
      },
      "execution_count": null,
      "outputs": []
    },
    {
      "cell_type": "code",
      "source": [
        "fig, ax5 = plt.subplots(1, 1, figsize=(10,5))\n",
        "\n",
        "for i in range(len(accuracy_matrix)):\n",
        "    label = 'maximum depth: ' + str(12 + 4*i)\n",
        "    ax5.plot(range(3,20,3), accuracy_matrix[i], 'o-', label=label)\n",
        "ax5.set_xlabel('number of features')\n",
        "ax5.set_ylabel('accuracy')\n",
        "ax5.legend()"
      ],
      "metadata": {
        "colab": {
          "base_uri": "https://localhost:8080/",
          "height": 351
        },
        "id": "K8Hp7OIAlji1",
        "outputId": "c3fe2790-443f-41c5-fa81-c9339448e647"
      },
      "execution_count": null,
      "outputs": [
        {
          "output_type": "execute_result",
          "data": {
            "text/plain": [
              "<matplotlib.legend.Legend at 0x7f804c040610>"
            ]
          },
          "metadata": {},
          "execution_count": 38
        },
        {
          "output_type": "display_data",
          "data": {
            "text/plain": [
              "<Figure size 720x360 with 1 Axes>"
            ],
            "image/png": "[encoded data removed]"
          },
          "metadata": {
            "needs_background": "light"
          }
        }
      ]
    },
    {
      "cell_type": "markdown",
      "source": [
        "This shows that, while some features are more important than others, a Random Forest Classifier requires around 10 features from flow data to achieve the best accuracy."
      ],
      "metadata": {
        "id": "P4sIpqXr6rmt"
      }
    },
    {
      "cell_type": "markdown",
      "source": [
        "## Rethinking the Classes\n",
        "\n",
        "While my results made sense, I wasn't satisfied with the accuracy I had achieved. I decided to see if changing my classification requirements would help. Instead of classifying each of the 3 types of attacks separately, I tried combining them so that the classifier only had to distinguish between two classes: benign traffic and malicious traffic."
      ],
      "metadata": {
        "id": "3o1gRbIKnfB2"
      }
    },
    {
      "cell_type": "code",
      "source": [
        "simplified_accuracies = []\n",
        "\n",
        "y_simplified = y > 0\n",
        "best_headers = np.array([importances[i]['index'] for i in range(10)])\n",
        "best_columns = [make_column(X[:, i]) for i in best_headers]\n",
        "best_X = np.concatenate(best_columns, axis=1)\n",
        "\n",
        "simplified_accuracies.append(classify(X, y_simplified, 20))\n",
        "simplified_accuracies.append(classify(best_X, y_simplified, 10))\n",
        "simplified_accuracies.append(classify(basic_X, y_simplified, 10))\n",
        "s_accuracies_matrix = np.array(simplified_accuracies)"
      ],
      "metadata": {
        "id": "2v_YiO20oNJ7"
      },
      "execution_count": null,
      "outputs": []
    },
    {
      "cell_type": "code",
      "source": [
        "pd.DataFrame(simplified_accuracies, columns=['Accuracy'], index=['Full Feature Set', 'Best 10 Features', '5-Tuple'])"
      ],
      "metadata": {
        "colab": {
          "base_uri": "https://localhost:8080/",
          "height": 143
        },
        "id": "d4zeZPxXE4Id",
        "outputId": "184ce706-1aef-4efe-cf53-62f239a99092"
      },
      "execution_count": null,
      "outputs": [
        {
          "output_type": "execute_result",
          "data": {
            "text/plain": [
              "                  Accuracy\n",
              "Full Feature Set  0.998392\n",
              "Best 10 Features  0.999982\n",
              "5-Tuple           0.998600"
            ],
            "text/html": [
              "\n",
              "  <div id=\"df-9722ee45-ac47-42fc-84c6-05da1ffe14f4\">\n",
              "    <div class=\"colab-df-container\">\n",
              "      <div>\n",
              "<style scoped>\n",
              "    .dataframe tbody tr th:only-of-type {\n",
              "        vertical-align: middle;\n",
              "    }\n",
              "\n",
              "    .dataframe tbody tr th {\n",
              "        vertical-align: top;\n",
              "    }\n",
              "\n",
              "    .dataframe thead th {\n",
              "        text-align: right;\n",
              "    }\n",
              "</style>\n",
              "<table border=\"1\" class=\"dataframe\">\n",
              "  <thead>\n",
              "    <tr style=\"text-align: right;\">\n",
              "      <th></th>\n",
              "      <th>Accuracy</th>\n",
              "    </tr>\n",
              "  </thead>\n",
              "  <tbody>\n",
              "    <tr>\n",
              "      <th>Full Feature Set</th>\n",
              "      <td>0.998392</td>\n",
              "    </tr>\n",
              "    <tr>\n",
              "      <th>Best 10 Features</th>\n",
              "      <td>0.999982</td>\n",
              "    </tr>\n",
              "    <tr>\n",
              "      <th>5-Tuple</th>\n",
              "      <td>0.998600</td>\n",
              "    </tr>\n",
              "  </tbody>\n",
              "</table>\n",
              "</div>\n",
              "      <button class=\"colab-df-convert\" onclick=\"convertToInteractive('df-9722ee45-ac47-42fc-84c6-05da1ffe14f4')\"\n",
              "              title=\"Convert this dataframe to an interactive table.\"\n",
              "              style=\"display:none;\">\n",
              "        \n",
              "  <svg xmlns=\"http://www.w3.org/2000/svg\" height=\"24px\"viewBox=\"0 0 24 24\"\n",
              "       width=\"24px\">\n",
              "    <path d=\"M0 0h24v24H0V0z\" fill=\"none\"/>\n",
              "    <path d=\"M18.56 5.44l.94 2.06.94-2.06 2.06-.94-2.06-.94-.94-2.06-.94 2.06-2.06.94zm-11 1L8.5 8.5l.94-2.06 2.06-.94-2.06-.94L8.5 2.5l-.94 2.06-2.06.94zm10 10l.94 2.06.94-2.06 2.06-.94-2.06-.94-.94-2.06-.94 2.06-2.06.94z\"/><path d=\"M17.41 7.96l-1.37-1.37c-.4-.4-.92-.59-1.43-.59-.52 0-1.04.2-1.43.59L10.3 9.45l-7.72 7.72c-.78.78-.78 2.05 0 2.83L4 21.41c.39.39.9.59 1.41.59.51 0 1.02-.2 1.41-.59l7.78-7.78 2.81-2.81c.8-.78.8-2.07 0-2.86zM5.41 20L4 18.59l7.72-7.72 1.47 1.35L5.41 20z\"/>\n",
              "  </svg>\n",
              "      </button>\n",
              "      \n",
              "  <style>\n",
              "    .colab-df-container {\n",
              "      display:flex;\n",
              "      flex-wrap:wrap;\n",
              "      gap: 12px;\n",
              "    }\n",
              "\n",
              "    .colab-df-convert {\n",
              "      background-color: #E8F0FE;\n",
              "      border: none;\n",
              "      border-radius: 50%;\n",
              "      cursor: pointer;\n",
              "      display: none;\n",
              "      fill: #1967D2;\n",
              "      height: 32px;\n",
              "      padding: 0 0 0 0;\n",
              "      width: 32px;\n",
              "    }\n",
              "\n",
              "    .colab-df-convert:hover {\n",
              "      background-color: #E2EBFA;\n",
              "      box-shadow: 0px 1px 2px rgba(60, 64, 67, 0.3), 0px 1px 3px 1px rgba(60, 64, 67, 0.15);\n",
              "      fill: #174EA6;\n",
              "    }\n",
              "\n",
              "    [theme=dark] .colab-df-convert {\n",
              "      background-color: #3B4455;\n",
              "      fill: #D2E3FC;\n",
              "    }\n",
              "\n",
              "    [theme=dark] .colab-df-convert:hover {\n",
              "      background-color: #434B5C;\n",
              "      box-shadow: 0px 1px 3px 1px rgba(0, 0, 0, 0.15);\n",
              "      filter: drop-shadow(0px 1px 2px rgba(0, 0, 0, 0.3));\n",
              "      fill: #FFFFFF;\n",
              "    }\n",
              "  </style>\n",
              "\n",
              "      <script>\n",
              "        const buttonEl =\n",
              "          document.querySelector('#df-9722ee45-ac47-42fc-84c6-05da1ffe14f4 button.colab-df-convert');\n",
              "        buttonEl.style.display =\n",
              "          google.colab.kernel.accessAllowed ? 'block' : 'none';\n",
              "\n",
              "        async function convertToInteractive(key) {\n",
              "          const element = document.querySelector('#df-9722ee45-ac47-42fc-84c6-05da1ffe14f4');\n",
              "          const dataTable =\n",
              "            await google.colab.kernel.invokeFunction('convertToInteractive',\n",
              "                                                     [key], {});\n",
              "          if (!dataTable) return;\n",
              "\n",
              "          const docLinkHtml = 'Like what you see? Visit the ' +\n",
              "            '<a target=\"_blank\" href=https://colab.research.google.com/notebooks/data_table.ipynb>data table notebook</a>'\n",
              "            + ' to learn more about interactive tables.';\n",
              "          element.innerHTML = '';\n",
              "          dataTable['output_type'] = 'display_data';\n",
              "          await google.colab.output.renderOutput(dataTable, element);\n",
              "          const docLink = document.createElement('div');\n",
              "          docLink.innerHTML = docLinkHtml;\n",
              "          element.appendChild(docLink);\n",
              "        }\n",
              "      </script>\n",
              "    </div>\n",
              "  </div>\n",
              "  "
            ]
          },
          "metadata": {},
          "execution_count": 42
        }
      ]
    },
    {
      "cell_type": "markdown",
      "source": [
        "As I expected, when I reduce the number of classes, the accuracy of the classifier increases. However, I did not expect it to increase as much as it did. An accuracy of 0.99 leaves little doubt that a Random Forest classifier could accurately classify network traffic as either benign or malicious."
      ],
      "metadata": {
        "id": "knBF99PGsZi7"
      }
    },
    {
      "cell_type": "markdown",
      "source": [
        "## Conclusion\n",
        "\n",
        "I originally set out to answer two questions:\n",
        "1. Can machine learning be applied to flow data to accurately classify network traffic as either benign or malicious? \n",
        "  - Machine learning, when applied to flow data, even the basic 5-tuple, can accurately classify network traffic as either benign or malicious. It still does well at classifying network traffic by attack type, although less so than a simple binary classification, so other approaches to identifying different types of attacks are likely preferable.\n",
        "\n",
        "2. If so, which parts of flow data (features) are the most useful for classifying network traffic?\n",
        "  - The basic 5-tuple is some of the most useful data for classifying network traffic. There are other features that are also very useful, but they require more work to extract from network traffic.\n",
        "\n",
        "Said questions have been sufficiently answered."
      ],
      "metadata": {
        "id": "0PqlCbw9yShJ"
      }
    },
    {
      "cell_type": "markdown",
      "source": [
        "###Footnotes\n",
        "\n",
        "<span id=\"complexity\"> [1]\n",
        ">n = number of training examples  \n",
        ">d = number of data dimensions/features  \n",
        ">k = number of decision trees\n",
        "</span>"
      ],
      "metadata": {
        "id": "jTie1krWweka"
      }
    }
  ]
}